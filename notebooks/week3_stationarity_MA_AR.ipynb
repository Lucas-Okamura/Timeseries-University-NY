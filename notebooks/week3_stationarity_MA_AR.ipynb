{
 "cells": [
  {
   "cell_type": "markdown",
   "metadata": {},
   "source": [
    "# Practical Time Series Analysis\n",
    "\n",
    "## Week 3: Stationarity, MA(q) and AR(p) processes\n",
    "\n",
    "**1. Stationarity**\n",
    "\n",
    "**2. Backward shift operator**\n",
    "\n",
    "**3. Invertibility**\n",
    "\n",
    "**4. Duality**\n",
    "\n",
    "**5. Autoregressive processes**\n",
    "\n",
    "**6. Yule-Walker equations**"
   ]
  },
  {
   "cell_type": "markdown",
   "metadata": {},
   "source": [
    "## 1. Stationarity"
   ]
  },
  {
   "cell_type": "markdown",
   "metadata": {},
   "source": [
    "**Stochastic Processes vs Time Series**\n",
    "\n",
    "A stochastic process is a family of random variables structured with a time index, denoted $X_t$ for discrete processes and $X(t)$ for continuous processes.\n",
    "\n",
    "* Discrete stochastic processes may model, for instance, the recorded daily high temperatures in Melbourne, Australia.\n",
    "* A commonly encountered continuous process is the Weiner Process, describing a particle's position as a function of time as it floats on the surface of a liquid (Brownian Motion).\n",
    "* A stochastic process is a complicated thing! To fully specify its structure we would need to know the joint distribution of the full set of random variables. Good luck!\n",
    "* We usually just have one sequentially observed data set and must infer the properties of the generating process from this single trajectory.\n",
    "\n",
    "**Mean, Variance and Autocovariance Functions**\n",
    "\n",
    "* **Mean Function**: $\\mu(t) \\equiv \\mu_t \\equiv E[X(t)]$\n",
    "* **Variance Function**: $\\sigma^2(t) \\equiv \\sigma_t^2 \\equiv V[X(t)]$\n",
    "* White noise: independent identically distributed random variables\n",
    "    * Mean Function: $\\mu(t) = C$ (constant)\n",
    "    * Variance Function $\\sigma^2(t) = C$ (constant)\n",
    "    * Auto Covariance Function: $\\gamma(t_1, t_2) = 0$\n",
    "\n",
    "\n",
    "**Strict Stationarity: Definition**\n",
    "\n",
    "We say a process is Strictly Stationary if the Joint Distribution of\n",
    "\n",
    "$X(t_1), X(t_2), ... , X(t_k)$\n",
    "\n",
    "is the same as the joint distribution of\n",
    "\n",
    "$X(t_1 + \\tau), X(t_2 + \\tau), ... , X(t_k + \\tau)$\n",
    "\n",
    "Implication:\n",
    "\n",
    "* Distribution of $X(t_1)$ same as $X(t_1 + \\tau)$\n",
    "* The random variables are identically distributed, though not necessarily independent.\n",
    "* Mean Function: $\\mu(t) = \\mu$\n",
    "* Variance Function $\\sigma(t) = \\sigma^2$\n",
    "* Joint distribution of $X(t_1), X(t_2)$ same as joint distribution of $X(t_1 + \\tau), X(t_2 + \\tau)$, that is, the joint distribution depends only on the lag spacing, so:\n",
    "    * Autocovariance Function: $\\gamma(t_1, t_2) = \\gamma(t_2 - t_1) = \\gamma(\\tau)$\n",
    "\n",
    "**Weak Stationarity: Definition**\n",
    "\n",
    "We say a process is weakly stationary if:\n",
    "\n",
    "* Mean Function: $\\mu(t) = \\mu$\n",
    "* ACF: $\\gamma(t_1, t_2) = \\gamma(t_2 - t_1) = \\gamma(\\tau)$\n",
    "\n",
    "Implication:\n",
    "\n",
    "* Constant variance\n",
    "\n",
    "**White Noise is Stationary!**\n",
    "\n",
    "Consider a discrete family of independent, identically distributed normal random variables (often Gaussian):\n",
    "\n",
    "* $X_t \\sim iid(0, \\sigma^2)$ or $X_t \\sim iid N(0, \\sigma^2)$\n",
    "\n",
    "Mean function $\\mu(t) = 0$ is obviously constant, so consider\n",
    "\n",
    "$\\begin{equation} \n",
    "    \\gamma(t_1, t_2) =\n",
    "        \\begin{cases}\n",
    "          0 & t_1 \\neq t_2\\\\\n",
    "          \\sigma^2 & t_1 = t_2\n",
    "        \\end{cases}       \n",
    "\\end{equation}$\n",
    "\n",
    "**Random Walks are Not Stationary!**\n",
    "\n",
    "Start with iid random variables $Z_t \\sim iid(\\mu, \\sigma^2)$, build a walk with $t$ steps:\n",
    "\n",
    "* $X_t = X_{t-1} + Z_t = \\sum^t_{i=1}Z_i$\n",
    "\n",
    "Mean and variance:\n",
    "\n",
    "* $E[X_t] = E[\\sum^t_{i=1}Z_i] = \\sum^t_{i=1}E[Z_i] = t \\cdot \\mu$\n",
    "* $V[X_t] = V[\\sum^t_{i=1}Z_i] = \\sum^t_{i=1}V[Z_i] = t \\cdot \\sigma^2$\n",
    "\n",
    "**Moving Average Processes are Stationary!**\n",
    "\n",
    "Start with iid random variables $Z_t \\sim iid(0, \\sigma^2)$\n",
    "\n",
    "* MA(q) process: $X_t = \\beta_0 Z_t + \\beta_1 Z_{t-1} + ... + \\beta_q Z_{t-q}$\n",
    "\n",
    "where $q$ tells us how far back to look along the white noise sequence for our weighted average.\n",
    "\n",
    "The larger the value of $q$, the smoother the series.\n",
    "\n",
    "**ACF for Moving Average Process**\n",
    "\n",
    "For a $k$ lag considering a $MA(q)$ process, we have the following covariance:\n",
    "\n",
    "* $cov[X_t, X_{t+k}] = \\sigma^2 \\cdot \\sum^{q-k}_{i=0} \\beta_i \\beta_{i+k}$ (no t dependence)"
   ]
  },
  {
   "cell_type": "markdown",
   "metadata": {},
   "source": [
    "## 2. Backward shift operator"
   ]
  },
  {
   "cell_type": "markdown",
   "metadata": {},
   "source": [
    "**Sequence**\n",
    "\n",
    "Sequence ${a_n}$ is list of numbers in definite order\n",
    "\n",
    "* $a_1, a_2, a_3, ..., a_n, ...$\n",
    "\n",
    "If the limit of the sequence exists, i..e,\n",
    "$\\lim_{n \\rightarrow \\infty } a_n = a$,\n",
    "then we say the sequence is convergent.\n",
    "\n",
    "**Partial sums**\n",
    "\n",
    "Partial sums os a sequence $a_n$ area defined as:\n",
    "* $s_n = a_1 + a_2 + ... + a_n$\n",
    "\n",
    "**Series**\n",
    "\n",
    "If the partial sums ${s_n}$ is convergent to a number s, then we say the infinite series $\\sum^\\infty_{k=1} a_k$ is convergent, and is equal to s.\n",
    "\n",
    "* $\\sum^\\infty_{k=1} a_k = lim_{n \\rightarrow \\infty} s_n = lim_{n \\rightarrow \\infty}(a_1 + a_2 + ... + a_n) = s$\n",
    "\n",
    "A series is absolutely convergent if:\n",
    "\n",
    "* $\\sum^\\infty_{k = 1} |a_k|$ is convergent\n",
    "\n",
    "Geometric sequence:\n",
    "\n",
    "* $\\{ar^{n-1}\\}^\\infty_{n-1} = \\{a, ar, ar^2, ar^3, ...\\}$\n",
    "\n",
    "Geometric series\n",
    "* $\\sum^\\infty_{k-1} ar^{k-1} = \\frac{a}{1-r}, \\text{if |r| < 1}$\n",
    "\n",
    "**Backward shift operator**\n",
    "\n",
    "Considering a stochastic process $X_1, X_2, X_3,...$, the backward shift operator is defined as:\n",
    "\n",
    "* $B X_t = X_{t-1}$\n",
    "* Generalizing: $B^k X_t = X_{t-k}$\n",
    "\n",
    "Example - MA(2) process:\n",
    "\n",
    "* $X_t = Z_t + 0.2 Z_{t-1} + 0.04 Z_{t-2}$\n",
    "* $X_t = Z_t + 0.2 B Z_t + 0.04 B^2 Z_t$\n",
    "* $X_t = (1 + 0.2 B + 0.04 B^2) Z_t$\n",
    "* $X_t = \\beta (B) Z_t$\n",
    "\n",
    "where: $\\beta(B) = 1 + 0.2 B + 0.04 B^2$"
   ]
  },
  {
   "cell_type": "markdown",
   "metadata": {},
   "source": [
    "## 3. Invertibility\n"
   ]
  },
  {
   "cell_type": "markdown",
   "metadata": {},
   "source": [
    "**Inverting through backward substitution**\n",
    "\n",
    "MA(1) process\n",
    "\n",
    "* $X_t = Z_t + \\beta Z_{t-1}$\n",
    "* $Z_t = X_t - \\beta Z_{t-1} = X_t - \\beta (X_{t-1} - \\beta Z_{t-2}) = X_t - \\beta X_{t-1} + \\beta^2 Z_{t-2}$\n",
    "\n",
    "In this manner,\n",
    "\n",
    "* $Z_t = X_t - \\beta X_{t-1} + \\beta^2 X_{t-2} - \\beta^3 X_{t-3} + ...$\n",
    "\n",
    "i.e.,\n",
    "\n",
    "* $X_t = Z_t + \\beta X_{t-1} - \\beta^2 X_{t-2} + \\beta^3 X_{t-3} - ...$\n",
    "\n",
    "We 'inverted' MA(1) process to AR($\\infty$).\n",
    "\n",
    "**Inverting using Backward shift operator**\n",
    "\n",
    "Consider:\n",
    "\n",
    "* $X_t = \\beta(B) Z_t$\n",
    "\n",
    "where $\\beta(B) = 1 + \\beta B$\n",
    "\n",
    "Then, we find $Z_t$ by inverting the polynomial operator $\\beta (B)$:\n",
    "\n",
    "* $\\beta (B)^{-1} X_t = Z_t$\n",
    "\n",
    "Inverse of $\\beta(B)$:\n",
    "\n",
    "* $\\beta (B)^{-1} = \\frac{1}{1 + \\beta B} = 1 - \\beta B + \\beta^2 B^2 - \\beta^3 B^3 + ...$\n",
    "\n",
    "Here, we expand the inverse of the polynomial operator as a 'rational function where $\\beta B$ is a complex number'.\n",
    "\n",
    "Thus we obtain,\n",
    "\n",
    "* $\\beta (B)^{-1} X_t = X_t - \\beta X_{t-1} + \\beta^2 X_{t-2} - \\beta^3 X_{t-3} + ...$\n",
    "\n",
    "And we can reconsider $Z_t$ as:\n",
    "\n",
    "* $Z_t = \\sum^{\\infty}_{n=0}(-\\beta)^n X_{t-n}$\n",
    "\n",
    "In order to make sure that the sum on the right is convergent (in the mean-square sense), we need $|\\beta| < 1$\n",
    "\n",
    "**Invertibility - Definition**\n",
    "\n",
    "* $\\{X_t\\}$ is a stochastic process.\n",
    "* $\\{Z_t\\}$ is innovations, i.e., random disturbances or white noise.\n",
    "* $\\{X_t\\}$ is called *invertible*, if $Z_t = \\sum^{\\infty}_{k=0} \\pi_k X_{t-k}$, where $\\sum^{\\infty}_{k=0} |\\pi_k|$ is convergent.\n",
    "* Invertibility condition guarantees unique MA process corresponding to observed ACF"
   ]
  },
  {
   "cell_type": "markdown",
   "metadata": {},
   "source": [
    "## 4. Duality"
   ]
  },
  {
   "cell_type": "markdown",
   "metadata": {},
   "source": [
    "**MA(q) process**\n",
    "\n",
    "* $X_t = \\beta_0 Z_t + \\beta_1 Z_{t-1} + ... + \\beta_q Z_{t-q}$\n",
    "\n",
    "Using Backward shift operator,\n",
    "\n",
    "* $X_t = (\\beta_0 + \\beta_1 B + ... + \\beta_q B^q) Z_t = \\beta(B) Z_t$\n",
    "\n",
    "We obtain innovations $Z_t$ in terms of present and past values of $X_t$,\n",
    "\n",
    "* $Z_t = \\beta(B)^{-1} X_t = (\\alpha_0 + \\alpha_1 B + \\alpha_2 B^2 + ...) X_t$\n",
    "\n",
    "MA(q) process is invertible if the roots of the polynomial $\\beta (B)$ all lie outside the unit circle (>1), where we regard $B$ as a complex variable (not an operator).\n",
    "\n",
    "**Stationarity condition for AR(p)**\n",
    "\n",
    "AR(p) process\n",
    "\n",
    "* $X_t = \\phi_1 X_{t-1} + \\phi_2 X_{t-2} + ... + \\phi_p X_{t-p} + Z_t$\n",
    "\n",
    "is (weakly) stationary if the roots of the polynomial \n",
    "\n",
    "* $\\phi (B) = 1 - \\phi_1 B - \\phi_2 B^2 - ... - \\phi_p B^p$\n",
    "\n",
    "all lie outside the unit circle (>1), where we regard $B$ as a complex variable (not an operator).\n",
    "\n",
    "AR(p) process $\\implies$ MA($\\infty$) process, if AR(p) is stationary.\n",
    "\n",
    "**Duality between AR and MA processes**\n",
    "\n",
    "* Under invertibility condition of MA(q):\n",
    "    * MA(q) $\\implies$ AR($\\infty$)\n",
    "* Under stationarity condition of AR(p):\n",
    "    * AR(p) $\\implies$ MA($\\infty$)"
   ]
  },
  {
   "cell_type": "markdown",
   "metadata": {},
   "source": [
    "## 5. Autoregressive processes"
   ]
  },
  {
   "cell_type": "markdown",
   "metadata": {},
   "source": [
    "**AR(p) process**\n",
    "\n",
    "$X_t = Z_t + history$\n",
    "\n",
    "What does \"history\" mean? \n",
    "\n",
    "Consider innovations $Z_t$ from white noise $Z_t \\sim iid(0, \\sigma^2)$. \n",
    "\n",
    "By history we mean previous terms in the process:\n",
    "\n",
    "* $X_t = Z_t + \\phi X_{t-1} + ... + \\phi_p X_{t-p}$\n",
    "\n",
    "Current position obtained as position we occupied at the previous time, plus a noise variable:\n",
    "\n",
    "* $X_t = X_{t-1} + Z_t$\n",
    "\n",
    "A quick caution: an autoregressive process isn't necessarily stationary! (Condition for stationarity explained in the last section)"
   ]
  },
  {
   "cell_type": "markdown",
   "metadata": {},
   "source": [
    "### AR(1) process, $\\phi = 0.4$"
   ]
  },
  {
   "cell_type": "code",
   "execution_count": 25,
   "metadata": {},
   "outputs": [],
   "source": [
    "# AR(1) process, phi = 0.4\n",
    "set.seed(2016)\n",
    "N = 1000\n",
    "phi = .4\n",
    "Z = rnorm(N, 0, 1)\n",
    "X = NULL\n",
    "X[1] = Z[1]\n",
    "\n",
    "for (t in 2:N) {\n",
    "    X[t] = Z[t] + phi * X[t-1]\n",
    "}\n",
    "\n",
    "X.ts = ts(X)"
   ]
  },
  {
   "cell_type": "code",
   "execution_count": 26,
   "metadata": {},
   "outputs": [
    {
     "data": {
      "image/png": "[encoded data removed]",
      "text/plain": [
       "Plot with title \"Autocorrelation of AR(1) Time Series, phi = 0.4\""
      ]
     },
     "metadata": {},
     "output_type": "display_data"
    }
   ],
   "source": [
    "# plot AR(1), phi = 0.4\n",
    "par(mfrow = c(2,1))\n",
    "plot(X.ts, main = paste(\"AR(1) Time Series on White Noise, phi =\", phi))\n",
    "X.acf = acf(X.ts, main = paste(\"Autocorrelation of AR(1) Time Series, phi =\", phi))"
   ]
  },
  {
   "cell_type": "markdown",
   "metadata": {},
   "source": [
    "### AR(1) process, $\\phi = 1$"
   ]
  },
  {
   "cell_type": "code",
   "execution_count": 27,
   "metadata": {},
   "outputs": [],
   "source": [
    "# AR(1) process, phi = 1\n",
    "set.seed(2016)\n",
    "N = 1000\n",
    "phi = 1\n",
    "Z = rnorm(N, 0, 1)\n",
    "X = NULL\n",
    "X[1] = Z[1]\n",
    "\n",
    "for (t in 2:N) {\n",
    "    X[t] = Z[t] + phi * X[t-1]\n",
    "}\n",
    "\n",
    "X.ts = ts(X)"
   ]
  },
  {
   "cell_type": "code",
   "execution_count": 28,
   "metadata": {},
   "outputs": [
    {
     "data": {
      "image/png": "[encoded data removed]",
      "text/plain": [
       "Plot with title \"Autocorrelation of AR(1) Time Series, phi = 1\""
      ]
     },
     "metadata": {},
     "output_type": "display_data"
    }
   ],
   "source": [
    "# plot AR(1), phi = 1\n",
    "par(mfrow = c(2,1))\n",
    "plot(X.ts, main = paste(\"AR(1) Time Series on White Noise, phi =\", phi))\n",
    "X.acf = acf(X.ts, main = paste(\"Autocorrelation of AR(1) Time Series, phi =\", phi))"
   ]
  },
  {
   "cell_type": "markdown",
   "metadata": {},
   "source": [
    "### AR(2) process, $X_t = Z_t + 0.7 X_{t-1} + 0.2 X_{t-2}$\n",
    "\n",
    "**Stationarity**\n",
    "\n",
    "* $-1 < \\phi_2 < 1$\n",
    "* $\\phi_2 < 1 + \\phi_1$\n",
    "* $\\phi_2 < 1 - \\phi_1$"
   ]
  },
  {
   "cell_type": "code",
   "execution_count": 29,
   "metadata": {},
   "outputs": [
    {
     "data": {
      "image/png": "[encoded data removed]",
      "text/plain": [
       "Plot with title \"Autocorrelation of AR(2) Time Series, phi1 = 0.7 phi2 = 0.2\""
      ]
     },
     "metadata": {},
     "output_type": "display_data"
    }
   ],
   "source": [
    "# AR(2) process, X_t = Z_t + 0.7 X_t-1 + 0.2 X_t-2\n",
    "phi1 = 0.7\n",
    "phi2 = 0.2\n",
    "set.seed(2017)\n",
    "X.ts = arima.sim(list(ar = c(phi1, phi2)), n = 1000)\n",
    "\n",
    "par(mfrow = c(2,1))\n",
    "plot(X.ts, main = paste(\"AR(2) Time Series on White Noise, phi1 =\", phi1, \"phi2 =\", phi2))\n",
    "X.acf = acf(X.ts, main = paste(\"Autocorrelation of AR(2) Time Series, phi1 =\", phi1, \"phi2 =\", phi2))"
   ]
  },
  {
   "cell_type": "markdown",
   "metadata": {},
   "source": [
    "### AR(2) process, $X_t = Z_t + 0.5 X_{t-1} - 0.4 X_{t-2}$\n",
    "\n",
    "**Stationarity**\n",
    "\n",
    "* $-1 < \\phi_2 < 1$\n",
    "* $\\phi_2 < 1 + \\phi_1$\n",
    "* $\\phi_2 < 1 - \\phi_1$"
   ]
  },
  {
   "cell_type": "code",
   "execution_count": 33,
   "metadata": {},
   "outputs": [
    {
     "data": {
      "image/png": "[encoded data removed]",
      "text/plain": [
       "Plot with title \"Autocorrelation of AR(2) Time Series, phi1 = 0.5 phi2 = -0.4\""
      ]
     },
     "metadata": {},
     "output_type": "display_data"
    }
   ],
   "source": [
    "# AR(2) process, X_t = Z_t + 0.5 X_t-1 - 0.4 X_t-2\n",
    "phi1 = 0.5\n",
    "phi2 = -0.4\n",
    "set.seed(2017)\n",
    "X.ts = arima.sim(list(ar = c(phi1, phi2)), n = 1000)\n",
    "\n",
    "par(mfrow = c(2,1))\n",
    "plot(X.ts, main = paste(\"AR(2) Time Series on White Noise, phi1 =\", phi1, \"phi2 =\", phi2))\n",
    "X.acf = acf(X.ts, main = paste(\"Autocorrelation of AR(2) Time Series, phi1 =\", phi1, \"phi2 =\", phi2))"
   ]
  },
  {
   "cell_type": "markdown",
   "metadata": {},
   "source": [
    "## 6. Yule-Walker equations"
   ]
  },
  {
   "cell_type": "markdown",
   "metadata": {},
   "source": [
    "**Difference equation**\n",
    "\n",
    "General term of a sequence is given, ex: $a_n = 2n + 1$. So, $3, 5, 7, ...$\n",
    "\n",
    "General term not given, but relation is given, ex: $a_n = 5 a_{n-1} - 6 a_{n-2}$\n",
    "\n",
    "This is a difference equation (recursive relation).\n",
    "\n",
    "We look for a solution in the format:\n",
    "\n",
    "* $a_n = \\lambda^n$\n",
    "\n",
    "For the previous problem:\n",
    "\n",
    "* $\\lambda^n = 5 \\lambda^{n-1} - 6 \\lambda^{n-2}$\n",
    "* Simplify: $\\lambda^2 - 5 \\lambda + 6 = 0 \\rightarrow$ Auxiliary equation or characteristic equation\n",
    "* $\\lambda = 2, \\lambda = 3$\n",
    "* $a_n = c_1 2^n + c_2 3^n$\n",
    "* With some initial conditions, say $a_0 = 3, a_1 = 8$.\n",
    "\n",
    "\\begin{equation}\n",
    "        \\begin{cases}\n",
    "          c_1 + c_2 = 3\\\\\n",
    "          2 c_1 + 3 c_2 = 8\n",
    "        \\end{cases}       \n",
    "    \\end{equation}\n",
    "\n",
    "* $c_1 = 1, c_2 = 2$\n",
    "\n",
    "Solution:\n",
    "\n",
    "* $a_n = 2^n + 2 \\cdot 3^n$\n",
    "* Solution for the $2^{nd}$ order difference equation: $a_n = 5 a_{n-1} - 6 a_{n-2}$\n",
    "\n",
    "**Example - Fibonacci sequence**\n",
    "\n",
    "Fibonacci sequence is defined as follows: $1, 1, 2, 3, 5, 8, 13, 21, ...$\n",
    "\n",
    "i.e., every term starting from the $3^{rd}$ term is addition of the previous two terms. What is the general term, $a_n$, of the Fibonacci sequence?\n",
    "\n",
    "We are looking for a sequence $\\{a_n\\}^\\infty_{n = 0}$, such that\n",
    "\n",
    "* $a_n = a_{n-1} + a_{n-2}$\n",
    "* where $a_0 = 1, a_1 = 1$.\n",
    "\n",
    "Characteristic equation becomes:\n",
    "\n",
    "* $\\lambda^2 - \\lambda - 1 = 0$\n",
    "* Roots: $\\lambda_1 = \\frac{1 - \\sqrt{5}}{2}, \\lambda_2 = \\frac{1 + \\sqrt{5}}{2}$\n",
    "* $a_n = c_1 \\left(\\frac{1 - \\sqrt{5}}{2}\\right)^n + c_2 \\left(\\frac{1 + \\sqrt{5}}{2}\\right)^n$\n",
    "\\begin{equation}\n",
    "        \\begin{cases}\n",
    "          c_1 + c_2 = 1\\\\\n",
    "          c_1 \\left(\\frac{1 - \\sqrt{5}}{2}\\right) + c_2 \\left(\\frac{1 + \\sqrt{5}}{2}\\right) = 1\n",
    "        \\end{cases}       \n",
    "    \\end{equation}\n",
    "* $c_1 = \\frac{5 - \\sqrt{5}}{10} = -\\frac{1}{\\sqrt{5}}\\left(\\frac{1 - \\sqrt{5}}{2}\\right)$\n",
    "* $c_2 = \\frac{5 + \\sqrt{5}}{10} = \\frac{1}{\\sqrt{5}}\\left(\\frac{1 + \\sqrt{5}}{2}\\right)$\n",
    "\n",
    "Finally:\n",
    "\n",
    "* $a_n = -\\frac{1}{\\sqrt{5}}\\left(\\frac{1 - \\sqrt{5}}{2}\\right)^{n+1} + \\frac{1}{\\sqrt{5}}\\left(\\frac{1 + \\sqrt{5}}{2}\\right)^{n+1}$\n",
    "\n",
    "**Yule-Walker - Procedure**\n",
    "\n",
    "1. We assume stationarity in advance (a priori assumption)\n",
    "2. Take product of the AR model with $X_{n-k}$\n",
    "3. Take expectation for both sides\n",
    "4. Use the definition of covariance, and divide by $\\gamma(0) = \\sigma^2_X$\n",
    "5. Get difference equation for $\\rho(k)$ , ACF of the process\n",
    "6. This set of equations is called Yule-Walker equations\n",
    "7. Solve the difference equation\n",
    "\n",
    "**Example**\n",
    "\n",
    "AR(2) process\n",
    "\n",
    "1, 2. We assume stationarity in advance (a priori assumption)\n",
    "\n",
    "* $X_t = \\frac{1}{3} X_{t-1} + \\frac{1}{2} X_{t-2} + Z_t$ (1)\n",
    "* Polynomial: $\\phi(B) = 1 - \\frac{1}{3}B - \\frac{1}{2}B^2$\n",
    "* Roots: $\\frac{-2 \\pm \\sqrt{76}}{6}$\n",
    "\n",
    "Since roots are greater than 1, this AR(2) process is a stationary process.\n",
    "\n",
    "2., 3. Take product of the AR model with $X_{n-k}$, Take expectation for both sides\n",
    "\n",
    "* Note that if $E(X_t) = \\mu$, then\n",
    "    * $E(X_t) = \\frac{1}{3} E(X_{t-1}) + \\frac{1}{2} E(X_{t-2}) + E(Z_t)$\n",
    "    * $\\mu = \\frac{1}{3} \\mu + \\frac{1}{2} \\mu$\n",
    "    * $\\mu = 0$\n",
    "* Multiply both sides of (1) with $X_{t-k}$, and take expectation\n",
    "    * $E(X_{t-k} X_t) = \\frac{1}{3} E(X_{t-k} X_{t-1}) + \\frac{1}{2} E(X_{t-k} X_{t-2}) + E(X_{t-k} Z_t)$\n",
    "\n",
    "4., 5. Use the definition of covariance, and divide by $\\gamma(0) = \\sigma^2_X$, Get difference equation for $\\rho(k)$ , ACF of the process\n",
    "\n",
    "* Since $\\mu = 0$, and assume $E(X_{t-k} Z_t) = 0$,\n",
    "    * $\\gamma(-k) = \\frac{1}{3} \\gamma (-k + 1) + \\frac{1}{2} \\gamma (-k + 2)$\n",
    "* Since $\\gamma(k) = \\gamma(-k)$ for any $k$:\n",
    "    * $\\gamma(k) = \\frac{1}{3} \\gamma (k - 1) + \\frac{1}{2} \\gamma (k - 2)$\n",
    "* Divide by $\\gamma (0) = \\sigma^2_X$\n",
    "    * $\\rho(k) = \\frac{1}{3} \\rho (k - 1) + \\frac{1}{2} \\rho (k - 2)$\n",
    "\n",
    "6. This set of equations is called Yule-Walker equations\n",
    "\n",
    "7. Solve the difference equation\n",
    "\n",
    "* We look for a solution in the format of $\\rho(k) = \\lambda^k$.\n",
    "    * $\\lambda^2 - \\frac{1}{3} \\lambda - \\frac{1}{2} = 0$\n",
    "* Roots:\n",
    "    * $\\lambda_1 = \\frac{2 + \\sqrt{76}}{12}, \\lambda_2 = \\frac{2 - \\sqrt{76}}{12}$\n",
    "* $\\rho(k) = c_1 \\left(\\frac{2 + \\sqrt{76}}{12}\\right)^k + c_2 \\left(\\frac{2 - \\sqrt{76}}{12}\\right)^k$\n",
    "* Use constraints to obtain coefficients\n",
    "    * $\\rho(0) = 1 \\implies c_1 + c_2 = 1$\n",
    "* And for $k = p - 1 = 2 - 1 = 1$,\n",
    "    * $\\rho(k) = \\rho(-k)$\n",
    "* $\\rho(1) = \\frac{1}{3} \\rho(0) + \\frac{1}{2} \\rho(-1) \\implies \\rho(1) = \\frac{2}{3} \\implies c_1 \\left(\\frac{2 + \\sqrt{76}}{12}\\right) + c_2 \\left(\\frac{2 - \\sqrt{76}}{12}\\right) = \\frac{2}{3}$\n",
    "* Solving the system of equations, we have\n",
    "    * $c_1 = \\frac{4 + \\sqrt{6}}{8}, c_2 = \\frac{4 - \\sqrt{6}}{8}$\n",
    "\n",
    "For any $k \\geq 0$,\n",
    "\n",
    "$\\rho(k) = \\frac{4 + \\sqrt{6}}{8} \\left(\\frac{2 + \\sqrt{76}}{12}\\right)^k + \\frac{4 - \\sqrt{6}}{8} \\left(\\frac{2 - \\sqrt{76}}{12}\\right)^k$"
   ]
  }
 ],
 "metadata": {
  "kernelspec": {
   "display_name": "R",
   "language": "R",
   "name": "ir"
  },
  "language_info": {
   "codemirror_mode": "r",
   "file_extension": ".r",
   "mimetype": "text/x-r-source",
   "name": "R",
   "pygments_lexer": "r",
   "version": "3.6.1"
  }
 },
 "nbformat": 4,
 "nbformat_minor": 4
}
