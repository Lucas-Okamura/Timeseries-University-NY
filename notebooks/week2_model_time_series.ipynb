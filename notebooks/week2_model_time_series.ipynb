{
 "cells": [
  {
   "cell_type": "markdown",
   "metadata": {},
   "source": [
    "# Practical Time Series Analysis\n",
    "\n",
    "## Week 2: Visualizing Time Series, and Beginning to Model Time Series\n",
    "\n",
    "**1. Stationarity**\n",
    "\n",
    "* 1.1. Strong\n",
    "* 1.2. Weak\n",
    "\n",
    "**2. Autocovariance and autocorrelation**\n",
    "\n",
    "**3. Random walks**\n",
    "\n",
    "**4. Moving average processes**\n",
    "\n",
    "**5. Introduction to simulation**"
   ]
  },
  {
   "cell_type": "code",
   "execution_count": null,
   "metadata": {},
   "outputs": [],
   "source": []
  }
 ],
 "metadata": {
  "kernelspec": {
   "display_name": "R",
   "language": "R",
   "name": "ir"
  },
  "language_info": {
   "codemirror_mode": "r",
   "file_extension": ".r",
   "mimetype": "text/x-r-source",
   "name": "R",
   "pygments_lexer": "r",
   "version": "3.6.1"
  }
 },
 "nbformat": 4,
 "nbformat_minor": 4
}
